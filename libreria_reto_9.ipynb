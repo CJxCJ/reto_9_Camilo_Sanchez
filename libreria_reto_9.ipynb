{
 "cells": [
  {
   "cell_type": "markdown",
   "metadata": {},
   "source": [
    "1. De los retos anteriores selecione 3 funciones y escribalas en forma de lambdas."
   ]
  },
  {
   "cell_type": "markdown",
   "metadata": {},
   "source": [
    "A. Funcion para determinar el valor de un prestamo "
   ]
  },
  {
   "cell_type": "code",
   "execution_count": null,
   "metadata": {},
   "outputs": [],
   "source": [
    "Valorprestamo = lambda C, i, n: C * (1 + (i / 100)) ** n\n",
    "\n",
    "if __name__ == \"__main__\":\n",
    "    C = float(input(\"Valor del préstamo adquirido: \"))\n",
    "    i = float(input(\"Porcentaje del interés: \"))\n",
    "    n = float(input(\"Meses a los que se sacó el préstamo: \"))\n",
    "    valorfinal = Valorprestamo(C, i, n)\n",
    "    valorfinalimit = \"{:.2f}\".format(valorfinal)\n",
    "\n",
    "    print(\"El valor del préstamo es \" + str(valorfinalimit))\n"
   ]
  },
  {
   "cell_type": "markdown",
   "metadata": {},
   "source": [
    "B. Cantidad de carne total comprada "
   ]
  },
  {
   "cell_type": "code",
   "execution_count": null,
   "metadata": {},
   "outputs": [],
   "source": [
    "Carnetotal = lambda N, M, K, GALLINAS = float(6), GALLOS = float(7), POLLITOS = float(1) : GALLINAS * N + GALLOS * M + POLLITOS * K\n",
    "\n",
    "if __name__ == \"__main__\":\n",
    "    N = float(input(\"Cantidad de gallinas: \"))\n",
    "    M = float(input(\"Cantidad de gallos: \"))\n",
    "    K = float(input(\"Cantidad de pollos: \"))\n",
    "    pesototal = Carnetotal(N, M, K)\n",
    "\n",
    "    print(\"El peso total de las carnes es: \" + str(pesototal) + \" KG\")\n",
    "\n"
   ]
  },
  {
   "cell_type": "markdown",
   "metadata": {},
   "source": [
    "C. Funcion para determinar caunto sobro, quedo debiendo o si fue un pago exacto"
   ]
  },
  {
   "cell_type": "code",
   "execution_count": null,
   "metadata": {},
   "outputs": [],
   "source": [
    "Compra = lambda P, M, H, PAN = float(300), LECHE = float(3300), HUEVOS = float(350) : PAN * P + LECHE * M + HUEVOS * H\n",
    "\n",
    "if __name__ == \"__main__\":\n",
    "    P = float(input(\"Cantidad de panes: \"))\n",
    "    M = float(input(\"Cantidad de bolsas de leche: \"))\n",
    "    H = float(input(\"Cantidad de huevos: \"))\n",
    "    B = float(input(\"Valor del billete con el que se paga: \"))\n",
    "\n",
    "    total = Compra(P, M, H)\n",
    "\n",
    "    vueltas = lambda B, total: B - total\n",
    "\n",
    "    deuda = vueltas(B, total)\n",
    "\n",
    "    if deuda > 0:\n",
    "        print(\"Sus vueltas son \" + str(deuda) + \" COP\")\n",
    "    elif deuda < 0:\n",
    "        print(\"Quedó debiendo \" + str(abs(deuda)) + \" COP\")\n",
    "    else:\n",
    "        print(\"El pago fue exacto\")\n"
   ]
  },
  {
   "cell_type": "markdown",
   "metadata": {},
   "source": [
    "2. De los retos anteriores selecione 3 funciones y escribalas con argumentos no definidos (*args)."
   ]
  },
  {
   "cell_type": "markdown",
   "metadata": {},
   "source": [
    "A. Cantidad de contagios de covid al pasar cierto tiempo"
   ]
  },
  {
   "cell_type": "code",
   "execution_count": null,
   "metadata": {},
   "outputs": [],
   "source": [
    "def Contagios(*args):\n",
    "    if len(args) != 2:\n",
    "        raise ValueError(\"La función Contagios requiere exactamente 2 argumentos.\")\n",
    "    \n",
    "    C, D = args\n",
    "    nuevosContagios = C * (2 ** (D - 1))\n",
    "    return nuevosContagios\n",
    "\n",
    "if __name__ == \"__main__\":\n",
    "    C = float(input(\"Numero de contagiados actuales: \"))\n",
    "    D = float(input(\"Dias transcurridos: \"))\n",
    "    contagiosfinal = Contagios(C, D)\n",
    "\n",
    "    print(\"El número de contagiados en \" + str(D) + \" días es de \" + str(contagiosfinal))\n"
   ]
  },
  {
   "cell_type": "markdown",
   "metadata": {},
   "source": [
    "B. Sacar el area y el volumen de unos solidos y su total combinado"
   ]
  },
  {
   "cell_type": "code",
   "execution_count": null,
   "metadata": {},
   "outputs": [],
   "source": [
    "import math\n",
    "\n",
    "def Volumenesfera(*args):\n",
    "    if len(args) != 1:\n",
    "        raise ValueError(\"error intente de nuevo\")\n",
    "    \n",
    "    r1 = args[0]\n",
    "    volesfera = (4/3) * math.pi * (r1 ** 3)\n",
    "    return volesfera\n",
    "\n",
    "def Areaesfera(*args):\n",
    "    if len(args) != 1:\n",
    "        raise ValueError(\"error intente de nuevo\")\n",
    "    \n",
    "    r1 = args[0]\n",
    "    aresfera = 4 * math.pi * (r1 ** 2)\n",
    "    return aresfera\n",
    "\n",
    "def Volumencono(*args):\n",
    "    if len(args) != 2:\n",
    "        raise ValueError(\"error intente de nuevo\")\n",
    "    \n",
    "    r2, h = args\n",
    "    volcono = (math.pi * (r2 ** 2) * h) / 3\n",
    "    return volcono\n",
    "\n",
    "def Areacono(*args):\n",
    "    if len(args) != 2:\n",
    "        raise ValueError(\"error intente de nuevo\")\n",
    "    \n",
    "    r2, h = args\n",
    "    arcono = (math.pi * r2) * (math.sqrt(h ** 2 + r2 ** 2)) + math.pi * (r2 ** 2)\n",
    "    return arcono\n",
    "\n",
    "def Volumentotal(*args):\n",
    "    if len(args) != 3:\n",
    "        raise ValueError(\"error intente de nuevo\")\n",
    "    \n",
    "    r1, r2, h = args\n",
    "    voltotal = ((4/3) * math.pi * (r1 ** 3)) + ((math.pi * (r2 ** 2) * h) / 3)\n",
    "    return voltotal\n",
    "\n",
    "def Areatotal(*args):\n",
    "    if len(args) != 3:\n",
    "        raise ValueError(\"error intente de nuevo\")\n",
    "    \n",
    "    r1, r2, h = args\n",
    "    artotal = ((math.pi * r2) * (math.sqrt(h ** 2 + r2 ** 2)) + math.pi * (r2 ** 2)) + 4 * math.pi * (r1 ** 2)\n",
    "    return artotal\n",
    "\n",
    "if __name__ == \"__main__\":\n",
    "    r1 = float(input(\"Radio de la esfera: \"))\n",
    "    r2 = float(input(\"Radio del cono: \"))\n",
    "    h = float(input(\"Altura del cono: \"))\n",
    "    volumenE = Volumenesfera(r1)\n",
    "    areaE = Areaesfera(r1)\n",
    "    volumenC = Volumencono(r2, h)\n",
    "    areaC = Areacono(r2, h)\n",
    "    volumenT = Volumentotal(r1, r2, h)\n",
    "    areaT = Areatotal(r1, r2, h)\n",
    "\n",
    "    print(\"El volumen de la esfera es: \" + str(volumenE))\n",
    "    print(\"El área de la esfera es: \" + str(areaE))\n",
    "    print(\"El volumen del cono es: \" + str(volumenC))\n",
    "    print(\"El área del cono es: \" + str(areaC))\n",
    "    print(\"El volumen del cono y la esfera juntos es: \" + str(volumenT))\n",
    "    print(\"El área del cono y la esfera juntos es: \" + str(areaT))\n"
   ]
  },
  {
   "cell_type": "markdown",
   "metadata": {},
   "source": [
    "C. Operaciones segun 5 terminos"
   ]
  },
  {
   "cell_type": "code",
   "execution_count": null,
   "metadata": {},
   "outputs": [],
   "source": [
    "def Promedio(*args):\n",
    "    if len(args) != 5:\n",
    "        raise ValueError(\"error, ingrese los valores requeridos\")\n",
    "    \n",
    "    prom = sum(args) / 5\n",
    "    return prom\n",
    "\n",
    "def Mediana(*args):\n",
    "    if len(args) != 5:\n",
    "        raise ValueError(\"error, ingrese los valores requeridos\")\n",
    "    \n",
    "    medi = list(args)\n",
    "    return sorted(medi)[2]\n",
    "\n",
    "def PromedioMultiplicativo(*args):\n",
    "    if len(args) != 5:\n",
    "        raise ValueError(\"error, ingrese los valores requeridos\")\n",
    "    \n",
    "    promultiplicativo = (args[0] * args[1] * args[2] * args[3] * args[4]) ** (1/5)\n",
    "    return promultiplicativo\n",
    "\n",
    "def Ordenascendente(*args):\n",
    "    if len(args) != 5:\n",
    "        raise ValueError(\"error, ingrese los valores requeridos\")\n",
    "    \n",
    "    ascen = list(args)\n",
    "    return sorted(ascen)\n",
    "\n",
    "def Ordendescendente(*args):\n",
    "    if len(args) != 5:\n",
    "        raise ValueError(\"error, ingrese los valores requeridos\")\n",
    "    \n",
    "    descen = list(args)\n",
    "    return sorted(descen, reverse=True)\n",
    "\n",
    "def Mayor(*args):\n",
    "    if len(args) != 5:\n",
    "        raise ValueError(\"error, ingrese los valores requeridos\")\n",
    "    \n",
    "    may = list(args)\n",
    "    return max(may)\n",
    "\n",
    "def Menor(*args):\n",
    "    if len(args) != 5:\n",
    "        raise ValueError(\"error, ingrese los valores requeridos\")\n",
    "    \n",
    "    men = list(args)\n",
    "    return min(men)\n",
    "\n",
    "def Potmayorxmenor(*args):\n",
    "    if len(args) != 5:\n",
    "        raise ValueError(\"error, ingrese los valores requeridos\")\n",
    "    \n",
    "    pot = list(args)\n",
    "    return max(pot) ** min(pot)\n",
    "\n",
    "def Raizcubicamenor(*args):\n",
    "    if len(args) != 5:\n",
    "        raise ValueError(\"error, ingrese los valores requeridos\")\n",
    "    \n",
    "    cub = list(args)\n",
    "    return min(cub) ** (1/3)\n",
    "\n",
    "if __name__ == \"__main__\":\n",
    "    v = float(input(\"Valor v: \"))\n",
    "    w = float(input(\"Valor w: \"))\n",
    "    x = float(input(\"Valor x: \"))\n",
    "    y = float(input(\"Valor y: \"))\n",
    "    z = float(input(\"Valor z: \"))\n",
    "    \n",
    "    promedio = Promedio(v, w, x, y, z)\n",
    "    mediana = Mediana(v, w, x, y, z)\n",
    "    promedio_multiplicativo = PromedioMultiplicativo(v, w, x, y, z)\n",
    "    orden_ascendente = Ordenascendente(v, w, x, y, z)\n",
    "    orden_descendente = Ordendescendente(v, w, x, y, z)\n",
    "    mayor_valor = Mayor(v, w, x, y, z)\n",
    "    menor_valor = Menor(v, w, x, y, z)\n",
    "    potencia_mayor_x_menor = Potmayorxmenor(v, w, x, y, z)\n",
    "    raiz_cubica_menor = Raizcubicamenor(v, w, x, y, z)\n",
    "\n",
    "    print(\"Promedio: \" + str(promedio))\n",
    "    print(\"Mediana: \" + str(mediana))\n",
    "    print(\"Promedio Multiplicativo: \" + str(promedio_multiplicativo))\n",
    "    print(\"Orden Ascendente: \" + str(orden_ascendente))\n",
    "    print(\"Orden Descendente: \" + str(orden_descendente))\n",
    "    print(\"Mayor Valor: \" + str(mayor_valor))\n",
    "    print(\"Menor Valor: \" + str(menor_valor))\n",
    "    print(\"Potencia Mayor x Menor: \" + str(potencia_mayor_x_menor))\n",
    "    print(\"Raíz Cúbica del Menor Valor: \" + str(raiz_cubica_menor))\n"
   ]
  },
  {
   "cell_type": "markdown",
   "metadata": {},
   "source": [
    "3. Escriba una función recursiva para calcular la operación de la potencia."
   ]
  },
  {
   "cell_type": "code",
   "execution_count": null,
   "metadata": {},
   "outputs": [],
   "source": [
    "def potencia(base, exponente):\n",
    "  if exponente == 0:\n",
    "    return 1\n",
    "  elif exponente > 0:\n",
    "    return base * potencia(base, exponente - 1)\n",
    "  else:\n",
    "    return 1 / (base * potencia(base, -exponente))\n",
    "\n",
    "base = float(input(\"Ingrese la base: \"))\n",
    "exponente = int(input(\"Ingrese el exponente: \"))\n",
    "\n",
    "resultado = potencia(base, exponente)\n",
    "print(f\"{base} ^ {exponente} = {resultado}\")\n"
   ]
  },
  {
   "cell_type": "markdown",
   "metadata": {},
   "source": [
    "4. Realice pruebas para calcular fibonacci con iteración o con recursión. Determine desde que número de la serie la diferencia de tiempo se vuelve significativa."
   ]
  },
  {
   "cell_type": "code",
   "execution_count": null,
   "metadata": {},
   "outputs": [],
   "source": [
    "import time\n",
    "\n",
    "start_time = time.time()\n",
    "\n",
    "def fib(n):\n",
    "    if n <= 0:\n",
    "        return 0\n",
    "    elif n == 1:\n",
    "        return 0\n",
    "    elif n == 2:\n",
    "        return 1\n",
    "    else:\n",
    "        a, b = 0, 1\n",
    "        max = 1\n",
    "        for _ in range(2, n):\n",
    "            a, b = b, a + b\n",
    "            if b > max:\n",
    "                max = b\n",
    "        return max\n",
    "\n",
    "n = int(input(\"ingrese el digito de la secuencia: \"))\n",
    "\n",
    "while True:\n",
    "  if time.time() - start_time < 5:\n",
    "\n",
    "    ultimo = fib(n)\n",
    "    print(f\"El número de Fibonacci en {n} es {ultimo}\")\n",
    "    break\n",
    "  print(\"el tiempo se exedio\")\n",
    "  break\n",
    "\n",
    "end_time = time.time()\n",
    "\n",
    "timer = end_time - start_time\n",
    "print(f\"se demoro {timer:.2f} segundos\")"
   ]
  },
  {
   "cell_type": "markdown",
   "metadata": {},
   "source": [
    "https://www.linkedin.com/in/camilo-jose-sanchez-48202a296/"
   ]
  }
 ],
 "metadata": {
  "language_info": {
   "name": "python"
  }
 },
 "nbformat": 4,
 "nbformat_minor": 2
}
